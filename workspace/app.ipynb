{
 "cells": [
  {
   "cell_type": "markdown",
   "id": "e4913dd07f55e8f7",
   "metadata": {},
   "source": [
    "# NLP - Sentiment Analysis for IMDB Movie Reviews from scratch"
   ]
  },
  {
   "cell_type": "markdown",
   "id": "d97ee464e23c966c",
   "metadata": {},
   "source": [
    "## Load Data"
   ]
  },
  {
   "cell_type": "code",
   "execution_count": 1,
   "id": "53dd4c85-1a41-4cb6-84ec-1562aaed578c",
   "metadata": {},
   "outputs": [
    {
     "name": "stderr",
     "output_type": "stream",
     "text": [
      "2025-10-07 01:03:04.952691: E external/local_xla/xla/stream_executor/cuda/cuda_dnn.cc:9261] Unable to register cuDNN factory: Attempting to register factory for plugin cuDNN when one has already been registered\n",
      "2025-10-07 01:03:04.953101: E external/local_xla/xla/stream_executor/cuda/cuda_fft.cc:607] Unable to register cuFFT factory: Attempting to register factory for plugin cuFFT when one has already been registered\n",
      "2025-10-07 01:03:05.072227: E external/local_xla/xla/stream_executor/cuda/cuda_blas.cc:1515] Unable to register cuBLAS factory: Attempting to register factory for plugin cuBLAS when one has already been registered\n",
      "2025-10-07 01:03:05.318947: I tensorflow/core/platform/cpu_feature_guard.cc:182] This TensorFlow binary is optimized to use available CPU instructions in performance-critical operations.\n",
      "To enable the following instructions: AVX2 FMA, in other operations, rebuild TensorFlow with the appropriate compiler flags.\n",
      "2025-10-07 01:03:11.138526: I external/local_xla/xla/stream_executor/cuda/cuda_executor.cc:887] could not open file to read NUMA node: /sys/bus/pci/devices/0000:01:00.0/numa_node\n",
      "Your kernel may have been built without NUMA support.\n",
      "2025-10-07 01:03:11.276304: I external/local_xla/xla/stream_executor/cuda/cuda_executor.cc:887] could not open file to read NUMA node: /sys/bus/pci/devices/0000:01:00.0/numa_node\n",
      "Your kernel may have been built without NUMA support.\n",
      "2025-10-07 01:03:11.276351: I external/local_xla/xla/stream_executor/cuda/cuda_executor.cc:887] could not open file to read NUMA node: /sys/bus/pci/devices/0000:01:00.0/numa_node\n",
      "Your kernel may have been built without NUMA support.\n"
     ]
    }
   ],
   "source": [
    "import tensorflow as tf\n",
    "\n",
    "gpus = tf.config.experimental.list_physical_devices('GPU')\n",
    "if gpus:\n",
    "    for gpu in gpus:\n",
    "        tf.config.experimental.set_memory_growth(gpu, True)\n",
    "        print(\"Using GPU\")"
   ]
  },
  {
   "cell_type": "code",
   "execution_count": 2,
   "id": "5d493d0d3a388230",
   "metadata": {
    "ExecuteTime": {
     "end_time": "2025-10-07T00:01:13.584931Z",
     "start_time": "2025-10-07T00:01:13.557164Z"
    }
   },
   "outputs": [],
   "source": [
    "import os\n",
    "import pandas as pd\n",
    "from datasets import load_dataset"
   ]
  },
  {
   "cell_type": "code",
   "execution_count": 3,
   "id": "636e61c7c55a8a76",
   "metadata": {
    "ExecuteTime": {
     "end_time": "2025-10-07T00:01:13.138537900Z",
     "start_time": "2025-10-06T23:42:57.684405Z"
    }
   },
   "outputs": [],
   "source": [
    "PATH_RAW_DATA = 'data/raw.csv'"
   ]
  },
  {
   "cell_type": "code",
   "execution_count": 4,
   "id": "initial_id",
   "metadata": {
    "ExecuteTime": {
     "end_time": "2025-10-07T00:01:13.166443500Z",
     "start_time": "2025-10-06T23:42:57.718958Z"
    }
   },
   "outputs": [
    {
     "name": "stdout",
     "output_type": "stream",
     "text": [
      "Raw Data saved to data/raw.csv\n"
     ]
    }
   ],
   "source": [
    "if not os.path.exists(PATH_RAW_DATA):\n",
    "    os.makedirs(os.path.dirname(PATH_RAW_DATA), exist_ok=True)\n",
    "    dataset = load_dataset(\"imdb\", split=\"train\")\n",
    "    df = pd.DataFrame(dataset)\n",
    "    df.to_csv(PATH_RAW_DATA, index=False)\n",
    "    print(f\"Raw Data saved to {PATH_RAW_DATA}\")\n",
    "else:\n",
    "    df = pd.read_csv(PATH_RAW_DATA)\n",
    "    print(f\"Raw Data loaded from {PATH_RAW_DATA}\")"
   ]
  },
  {
   "cell_type": "code",
   "execution_count": 5,
   "id": "1d6dcb955e4331a7",
   "metadata": {
    "ExecuteTime": {
     "end_time": "2025-10-07T00:01:13.168470100Z",
     "start_time": "2025-10-06T23:42:58.283145Z"
    }
   },
   "outputs": [
    {
     "name": "stdout",
     "output_type": "stream",
     "text": [
      "                                                    text  label\n",
      "0      I rented I AM CURIOUS-YELLOW from my video sto...      0\n",
      "1      \"I Am Curious: Yellow\" is a risible and preten...      0\n",
      "2      If only to avoid making this type of film in t...      0\n",
      "3      This film was probably inspired by Godard's Ma...      0\n",
      "4      Oh, brother...after hearing about this ridicul...      0\n",
      "...                                                  ...    ...\n",
      "24995  A hit at the time but now better categorised a...      1\n",
      "24996  I love this movie like no other. Another time ...      1\n",
      "24997  This film and it's sequel Barry Mckenzie holds...      1\n",
      "24998  'The Adventures Of Barry McKenzie' started lif...      1\n",
      "24999  The story centers around Barry McKenzie who mu...      1\n",
      "\n",
      "[25000 rows x 2 columns]\n"
     ]
    }
   ],
   "source": [
    "print(df)"
   ]
  },
  {
   "cell_type": "markdown",
   "id": "79a709579257b7e3",
   "metadata": {},
   "source": [
    "## Preprocess Data"
   ]
  },
  {
   "cell_type": "code",
   "execution_count": 6,
   "id": "ec1fba9023c47227",
   "metadata": {
    "ExecuteTime": {
     "end_time": "2025-10-07T00:01:13.169870200Z",
     "start_time": "2025-10-06T23:42:58.345548Z"
    }
   },
   "outputs": [],
   "source": [
    "import re\n",
    "import string\n",
    "import nltk\n",
    "import spacy\n",
    "import contractions\n",
    "from unidecode import unidecode\n",
    "from nltk.corpus import stopwords"
   ]
  },
  {
   "cell_type": "code",
   "execution_count": 7,
   "id": "fec8cf5b7e253029",
   "metadata": {
    "ExecuteTime": {
     "end_time": "2025-10-07T00:01:13.180278800Z",
     "start_time": "2025-10-06T23:55:02.203170Z"
    }
   },
   "outputs": [],
   "source": [
    "PATH_PROCESSED_DATA = 'data/processed.csv'"
   ]
  },
  {
   "cell_type": "code",
   "execution_count": 8,
   "id": "174cd58831671bb7",
   "metadata": {},
   "outputs": [
    {
     "name": "stdout",
     "output_type": "stream",
     "text": [
      "Collecting en-core-web-sm==3.8.0\n",
      "  Downloading https://github.com/explosion/spacy-models/releases/download/en_core_web_sm-3.8.0/en_core_web_sm-3.8.0-py3-none-any.whl (12.8 MB)\n",
      "\u001b[2K     \u001b[90m━━━━━━━━━━━━━━━━━━━━━━━━━━━━━━━━━━━━━━━━\u001b[0m \u001b[32m12.8/12.8 MB\u001b[0m \u001b[31m21.2 MB/s\u001b[0m eta \u001b[36m0:00:00\u001b[0m00:01\u001b[0m00:01\u001b[0m\n",
      "\u001b[?25h\u001b[33mWARNING: Running pip as the 'root' user can result in broken permissions and conflicting behaviour with the system package manager. It is recommended to use a virtual environment instead: https://pip.pypa.io/warnings/venv\u001b[0m\u001b[33m\n",
      "\u001b[0m\n",
      "\u001b[1m[\u001b[0m\u001b[34;49mnotice\u001b[0m\u001b[1;39;49m]\u001b[0m\u001b[39;49m A new release of pip is available: \u001b[0m\u001b[31;49m23.3.1\u001b[0m\u001b[39;49m -> \u001b[0m\u001b[32;49m25.2\u001b[0m\n",
      "\u001b[1m[\u001b[0m\u001b[34;49mnotice\u001b[0m\u001b[1;39;49m]\u001b[0m\u001b[39;49m To update, run: \u001b[0m\u001b[32;49mpython -m pip install --upgrade pip\u001b[0m\n",
      "\u001b[38;5;2m✔ Download and installation successful\u001b[0m\n",
      "You can now load the package via spacy.load('en_core_web_sm')\n"
     ]
    }
   ],
   "source": [
    "!python -m spacy download en_core_web_sm"
   ]
  },
  {
   "cell_type": "code",
   "execution_count": 9,
   "id": "f8a1721b7405e99a",
   "metadata": {
    "ExecuteTime": {
     "end_time": "2025-10-07T00:01:13.181503800Z",
     "start_time": "2025-10-06T23:42:58.440408Z"
    }
   },
   "outputs": [
    {
     "name": "stderr",
     "output_type": "stream",
     "text": [
      "[nltk_data] Downloading package stopwords to /root/nltk_data...\n",
      "[nltk_data]   Package stopwords is already up-to-date!\n"
     ]
    }
   ],
   "source": [
    "nltk.download('stopwords')\n",
    "stop_words = set(stopwords.words('english'))\n",
    "nlp = spacy.load(\"en_core_web_sm\", disable=[\"parser\", \"ner\"])"
   ]
  },
  {
   "cell_type": "code",
   "execution_count": 10,
   "id": "601bf56f71b09c80",
   "metadata": {
    "ExecuteTime": {
     "end_time": "2025-10-07T00:01:13.182602200Z",
     "start_time": "2025-10-06T23:42:59.396648Z"
    }
   },
   "outputs": [],
   "source": [
    "def preprocess_text(text, remove_stopwords=True, save_data=False):\n",
    "    # Normalize encoding\n",
    "    text = unidecode(text)\n",
    "\n",
    "    # Lowercase\n",
    "    text = text.lower()\n",
    "\n",
    "    # Expand contractions\n",
    "    text = contractions.fix(text)\n",
    "\n",
    "    # Remove HTML tags and URLs\n",
    "    text = re.sub(r\"<.*?>\", \" \", text)\n",
    "    text = re.sub(r\"http\\S+|www\\S+\", \" \", text)\n",
    "\n",
    "    # Remove punctuation (keep ! and ? as they can carry sentiment)\n",
    "    text = re.sub(r\"[^a-zA-Z0-9!?']\", \" \", text)\n",
    "\n",
    "    # Tokenize and Lemmatize using SpaCy\n",
    "    doc = nlp(text)\n",
    "    tokens = []\n",
    "    for token in doc:\n",
    "        lemma = token.lemma_.strip()\n",
    "        if not lemma:\n",
    "            continue\n",
    "        if remove_stopwords and lemma in stop_words:\n",
    "            continue\n",
    "        tokens.append(lemma)\n",
    "\n",
    "    # Remove extra whitespace and join back\n",
    "    clean_text = \" \".join(tokens)\n",
    "    clean_text = re.sub(r\"\\s+\", \" \", clean_text).strip()\n",
    "    clean_text = re.sub(r\"[!?]{2,}\", lambda m: m.group(0)[0], text)\n",
    "    clean_text = re.sub(r\"[^a-z0-9!?']\", \" \", text)\n",
    "\n",
    "    if save_data:\n",
    "        df['text'] = df['text'].apply(lambda x: preprocess_text(x, remove_stopwords))\n",
    "        df.to_csv(PATH_PROCESSED_DATA, index=False)\n",
    "\n",
    "    return clean_text"
   ]
  },
  {
   "cell_type": "code",
   "execution_count": 11,
   "id": "fe519aaf62759fbc",
   "metadata": {
    "ExecuteTime": {
     "end_time": "2025-10-07T00:01:13.183367400Z",
     "start_time": "2025-10-06T23:55:06.534956Z"
    }
   },
   "outputs": [
    {
     "name": "stderr",
     "output_type": "stream",
     "text": [
      "25000it [08:08, 51.22it/s] \n"
     ]
    },
    {
     "name": "stdout",
     "output_type": "stream",
     "text": [
      "Processed Data saved to data/processed.csv\n"
     ]
    }
   ],
   "source": [
    "import tqdm\n",
    "\n",
    "if not os.path.exists(PATH_PROCESSED_DATA):\n",
    "    os.makedirs(os.path.dirname(PATH_PROCESSED_DATA), exist_ok=True)\n",
    "    texts = df['text'].tolist()\n",
    "    # texts = df['text'].tolist()[:20]\n",
    "    # df = df.iloc[:20].copy()\n",
    "    # Batch process with tqdm for progress bar\n",
    "    processed_texts = []\n",
    "    for doc in tqdm.tqdm(nlp.pipe(texts, batch_size=1000, disable=[\"parser\", \"ner\"])):\n",
    "        tokens = [token.lemma_ for token in doc if token.lemma_ and token.lemma_ not in stop_words]\n",
    "        clean_text = \" \".join(tokens)\n",
    "        processed_texts.append(clean_text)\n",
    "    df['text'] = processed_texts\n",
    "    df.to_csv(PATH_PROCESSED_DATA, index=False)\n",
    "    print(f\"Processed Data saved to {PATH_PROCESSED_DATA}\")\n",
    "else:\n",
    "    df = pd.read_csv(PATH_PROCESSED_DATA)\n",
    "    print(f\"Processed Data loaded from {PATH_PROCESSED_DATA}\")\n"
   ]
  },
  {
   "cell_type": "code",
   "execution_count": 12,
   "id": "82fab4e0728fcca0",
   "metadata": {},
   "outputs": [
    {
     "name": "stdout",
     "output_type": "stream",
     "text": [
      "Original: I rent I CURIOUS - yellow video store controversy surround first release 1967 . I also hear first seize U.S. custom ever try enter country , therefore fan film consider \" controversial \" I really see myself.<br /><br />The plot center around young swedish drama student name Lena want learn everything life . particular want focus attention make sort documentary average Swede think certain political issue Vietnam War race issue United States . ask politician ordinary denizen Stockholm opinion politic , sex drama teacher , classmate , marry men.<br /><br />What kill I I CURIOUS - YELLOW 40 year ago , consider pornographic . really , sex nudity scene far , even shoot like cheaply make porno . countryman mind find shocking , reality sex nudity major staple swedish cinema . even Ingmar Bergman , arguably answer good old boy John Ford , sex scene films.<br /><br />i commend filmmaker fact sex show film show artistic purpose rather shock people make money show pornographic theater America . I CURIOUS - YELLOW good film anyone want study meat potato ( pun intend ) swedish cinema . really , film much plot .\n",
      "Processed: i rent i curious   yellow video store controversy surround first release 1967   i also hear first seize you s  custom ever try enter country   therefore fan film consider   controversial   i really see myself   the plot center around young swedish drama student name lena want learn everything life   particular want focus attention make sort documentary average swede think certain political issue vietnam war race issue united states   ask politician ordinary denizen stockholm opinion politic   sex drama teacher   classmate   marry men   what kill i i curious   yellow 40 year ago   consider pornographic   really   sex nudity scene far   even shoot like cheaply make porno   countryman mind find shocking   reality sex nudity major staple swedish cinema   even ingmar bergman   arguably answer good old boy john ford   sex scene films   i commend filmmaker fact sex show film show artistic purpose rather shock people make money show pornographic theater america   i curious   yellow good film anyone want study meat potato   pun intend   swedish cinema   really   film much plot  \n",
      "\n",
      "Original: \" I curious : Yellow \" risible pretentious steaming pile . matter one 's political view film hardly take seriously level . claim frontal male nudity automatic nc-17 , true . I see r - rate film male nudity . grant , offer fleeting view , r - rate film gape vulva flap labia ? nowhere , exist . go crappy cable show : schlong swinge breeze clitoris sight . pretentious indie movie like Brown Bunny , treat site Vincent Gallo 's throbbing johnson , trace pink visible Chloe Sevigny . cry ( imply ) \" double - standard \" matter nudity , mentally obtuse take account one unavoidably obvious anatomical difference man woman : genital display actress appear nude , say man . fact , generally see female genital american film anything short porn explicit erotica . allege double - standard less double standard admittedly depressing ability come term culturally inside woman 's body .\n",
      "Processed:   i curious   yellow   risible pretentious steaming pile   matter one 's political view film hardly take seriously level   claim frontal male nudity automatic nc 17   true   i see are   rate film male nudity   grant   offer fleeting view   are   rate film gape vulva flap labia ? nowhere   exist   go crappy cable show   schlong swinge breeze clitoris sight   pretentious indie movie like brown bunny   treat site vincent gallo 's throbbing johnson   trace pink visible chloe sevigny   cry   imply     double   standard   matter nudity   mentally obtuse take account one unavoidably obvious anatomical difference man woman   genital display actress appear nude   say man   fact   generally see female genital american film anything short porn explicit erotica   allege double   standard less double standard admittedly depressing ability come term culturally inside woman 's body  \n",
      "\n",
      "Original: avoid make type film future . film interesting experiment tell cogent story.<br /><br />One might feel virtuous sit thru touch many important issue without discernable motive . viewer come away new perspective ( unless one come one one 's mind wander , invariably pointless film).<br /><br />one might well spend one 's time stare window tree growing.<br /><br / >\n",
      "Processed: avoid make type film future   film interesting experiment tell cogent story   one might feel virtuous sit thru touch many important issue without discernable motive   viewer come away new perspective   unless one come one one 's mind wander   invariably pointless film    one might well spend one 's time stare window tree growing   \n",
      "\n",
      "Original: film probably inspire Godard 's Masculin , féminin I urge see film instead.<br /><br />The film two strong element , ( 1 ) realistic acting ( 2 ) impressive , undeservedly good , photo . apart , strike I endless stream silliness . Lena Nyman annoying actress world . act stupid nudity film, ... unattractive . compare Godard 's film , intellectuality replace stupidity . without go far subject , I would say follow difference ideal French Swedish society.<br /><br />A movie time , place . 2/10 .\n",
      "Processed: film probably inspire godard 's masculin   feminin i urge see film instead   the film two strong element     1   realistic acting   2   impressive   undeservedly good   photo   apart   strike i endless stream silliness   lena nyman annoying actress world   act stupid nudity film      unattractive   compare godard 's film   intellectuality replace stupidity   without go far subject   i would say follow difference ideal french swedish society   a movie time   place   2 10  \n",
      "\n",
      "Original: oh , brother ... hear ridiculous film umpteen year I think old Peggy Lee song .. <br /><br />\"Is ? ? \" ... I early teen smoke fish hit U.S. I young get theater ( although I manage sneak \" Goodbye Columbus \" ) . screening local film museum beckon - finally I could see film , except I old parent schleppe see it!!<br /><br />the reason film condemn anonymous sand time obscenity case spark U.S. release . million people flock stinker , think go see sex film ... instead , get lot closeup gnarly , repulsive Swedes , - street interview bland shopping mall , asinie political pretension ... feeble - care simulated sex scene saggy , pale actors.<br /><br />cultural icon , holy grail , historic artifact .. whatever thing , shre , burn , stuff ashe lead box!<br /><br />Elite esthete still scrape find value boring pseudo revolutionary political spewing .. censorship scandal , would ignore , forgotten.<br /><br />Instead , \" I Blank , Blank \" rhythymed title repeat endlessly year titilation porno film ( I curious , lavender - gay film , I curious , black - blaxploitation film , etc .. ) every ten year thing rise dead , view new generation sucker want see \" naughty sex film \" \" revolutionize film industry\" ... <br /><br />Yeesh , avoid like plague .. must see - rent video fast forward \" dirty \" part , get with.<br /><br / >\n",
      "Processed: oh   brother     hear ridiculous film umpteen year i think old peggy lee song       is ? ?       i early teen smoke fish hit you s  i young get theater   although i manage sneak   goodbye columbus       screening local film museum beckon   finally i could see film   except i old parent schleppe see it!!  the reason film condemn anonymous sand time obscenity case spark you s  release   million people flock stinker   think go see sex film     instead   get lot closeup gnarly   repulsive swedes     street interview bland shopping mall   asinie political pretension     feeble   care simulated sex scene saggy   pale actors   cultural icon   holy grail   historic artifact    whatever thing   shre   burn   stuff ashe lead box!  elite esthete still scrape find value boring pseudo revolutionary political spewing    censorship scandal   would ignore   forgotten   instead     i blank   blank   rhythymed title repeat endlessly year titilation porno film   i curious   lavender   gay film   i curious   black   blaxploitation film   etc      every ten year thing rise dead   view new generation sucker want see   naughty sex film     revolutionize film industry        yeesh   avoid like plague    must see   rent video fast forward   dirty   part   get with   \n",
      "\n"
     ]
    }
   ],
   "source": [
    "for i in df.index[:5]:\n",
    "    print(f\"Original: {df.loc[i, 'text']}\")\n",
    "    print(f\"Processed: {preprocess_text(df.loc[i, 'text'], remove_stopwords=False)}\\n\")"
   ]
  }
 ],
 "metadata": {
  "kernelspec": {
   "display_name": "Python 3 (ipykernel)",
   "language": "python",
   "name": "python3"
  },
  "language_info": {
   "codemirror_mode": {
    "name": "ipython",
    "version": 3
   },
   "file_extension": ".py",
   "mimetype": "text/x-python",
   "name": "python",
   "nbconvert_exporter": "python",
   "pygments_lexer": "ipython3",
   "version": "3.11.0rc1"
  }
 },
 "nbformat": 4,
 "nbformat_minor": 5
}
